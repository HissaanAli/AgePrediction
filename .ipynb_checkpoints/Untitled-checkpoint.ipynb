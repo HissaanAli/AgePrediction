{
 "cells": [
  {
   "cell_type": "markdown",
   "id": "69a9faa7-809f-4c48-8c36-b454da7f0b78",
   "metadata": {},
   "source": [
    "# IMPORTS"
   ]
  },
  {
   "cell_type": "code",
   "execution_count": 1,
   "id": "e8942ae6-73d3-4d24-a5e5-3d7bd3deb3ce",
   "metadata": {},
   "outputs": [],
   "source": [
    "import tensorflow as tf\n",
    "import matplotlib.pyplot as plt\n",
    "import seaborn as sns\n",
    "from tensorflow.keras import datasets, layers, models, losses\n",
    "from sklearn.metrics import accuracy_score\n",
    "from sklearn.model_selection import train_test_split\n",
    "from sklearn.metrics import confusion_matrix\n",
    "from sklearn.metrics import classification_report\n",
    "from sklearn.metrics import mean_squared_error\n",
    "from sklearn.metrics import mean_absolute_error\n",
    "\n",
    "from PIL import Image\n",
    "import numpy as np\n",
    "import pandas as pd\n",
    "import os\n"
   ]
  },
  {
   "cell_type": "code",
   "execution_count": 2,
   "id": "0e9405ca-f0cc-4e58-9e8e-79fb8a1f134f",
   "metadata": {},
   "outputs": [],
   "source": [
    "TRAIN_PATH = \"dataset/training_set/\"\n",
    "VAL_PATH = \"dataset/validation_set/\"\n",
    "TEST_PATH = \"dataset/test_set/\"\n",
    "\n",
    "def imshow(img):\n",
    "    plt.imshow(img, cmap = 'gray')\n",
    "def gray_to_rgb(img):\n",
    "    return tf.image.grayscale_to_rgb(tf.convert_to_tensor(img.reshape(91,91,1)))\n",
    "def resize(img):\n",
    "    return tf.image.resize(img, [224,224], method='nearest').numpy()"
   ]
  },
  {
   "cell_type": "markdown",
   "id": "99da83dd-a5da-40e6-80fd-892719eff3f1",
   "metadata": {},
   "source": [
    "# DATA LOADER"
   ]
  },
  {
   "cell_type": "code",
   "execution_count": 3,
   "id": "f0a6de97-3b39-45d2-b3d5-5243d4b3a247",
   "metadata": {
    "tags": []
   },
   "outputs": [],
   "source": [
    "def load_into_df(path):\n",
    "    data = {\n",
    "        'path': [],\n",
    "        'age': []\n",
    "           }\n",
    "    file_names = os.listdir(path)\n",
    "    for file in file_names:\n",
    "        data['age'].append(int(file.split('/')[-1].split('_')[0]))\n",
    "        data['path'].append(file)\n",
    "    df = pd.DataFrame(data)\n",
    "    return df\n",
    "class Item:\n",
    "    def __init__(self, path):\n",
    "        self._image = np.array(Image.open(path))\n",
    "        self._age = int(path.split('/')[-1].split('_')[0])\n",
    "    def get_image(self):\n",
    "        return self._image\n",
    "    def get_age(self):\n",
    "        return self._age\n",
    "    "
   ]
  },
  {
   "cell_type": "code",
   "execution_count": 4,
   "id": "3bc3a2f0-22a5-472d-adaa-95bc71af4351",
   "metadata": {},
   "outputs": [
    {
     "name": "stdout",
     "output_type": "stream",
     "text": [
      "train_df:\n"
     ]
    },
    {
     "data": {
      "text/html": [
       "<div>\n",
       "<style scoped>\n",
       "    .dataframe tbody tr th:only-of-type {\n",
       "        vertical-align: middle;\n",
       "    }\n",
       "\n",
       "    .dataframe tbody tr th {\n",
       "        vertical-align: top;\n",
       "    }\n",
       "\n",
       "    .dataframe thead th {\n",
       "        text-align: right;\n",
       "    }\n",
       "</style>\n",
       "<table border=\"1\" class=\"dataframe\">\n",
       "  <thead>\n",
       "    <tr style=\"text-align: right;\">\n",
       "      <th></th>\n",
       "      <th>age</th>\n",
       "    </tr>\n",
       "  </thead>\n",
       "  <tbody>\n",
       "    <tr>\n",
       "      <th>count</th>\n",
       "      <td>5400.000000</td>\n",
       "    </tr>\n",
       "    <tr>\n",
       "      <th>mean</th>\n",
       "      <td>32.030185</td>\n",
       "    </tr>\n",
       "    <tr>\n",
       "      <th>std</th>\n",
       "      <td>18.231843</td>\n",
       "    </tr>\n",
       "    <tr>\n",
       "      <th>min</th>\n",
       "      <td>1.000000</td>\n",
       "    </tr>\n",
       "    <tr>\n",
       "      <th>25%</th>\n",
       "      <td>23.000000</td>\n",
       "    </tr>\n",
       "    <tr>\n",
       "      <th>50%</th>\n",
       "      <td>29.000000</td>\n",
       "    </tr>\n",
       "    <tr>\n",
       "      <th>75%</th>\n",
       "      <td>42.000000</td>\n",
       "    </tr>\n",
       "    <tr>\n",
       "      <th>max</th>\n",
       "      <td>80.000000</td>\n",
       "    </tr>\n",
       "  </tbody>\n",
       "</table>\n",
       "</div>"
      ],
      "text/plain": [
       "               age\n",
       "count  5400.000000\n",
       "mean     32.030185\n",
       "std      18.231843\n",
       "min       1.000000\n",
       "25%      23.000000\n",
       "50%      29.000000\n",
       "75%      42.000000\n",
       "max      80.000000"
      ]
     },
     "metadata": {},
     "output_type": "display_data"
    },
    {
     "name": "stdout",
     "output_type": "stream",
     "text": [
      "val_df:\n"
     ]
    },
    {
     "data": {
      "text/html": [
       "<div>\n",
       "<style scoped>\n",
       "    .dataframe tbody tr th:only-of-type {\n",
       "        vertical-align: middle;\n",
       "    }\n",
       "\n",
       "    .dataframe tbody tr th {\n",
       "        vertical-align: top;\n",
       "    }\n",
       "\n",
       "    .dataframe thead th {\n",
       "        text-align: right;\n",
       "    }\n",
       "</style>\n",
       "<table border=\"1\" class=\"dataframe\">\n",
       "  <thead>\n",
       "    <tr style=\"text-align: right;\">\n",
       "      <th></th>\n",
       "      <th>age</th>\n",
       "    </tr>\n",
       "  </thead>\n",
       "  <tbody>\n",
       "    <tr>\n",
       "      <th>count</th>\n",
       "      <td>2315.000000</td>\n",
       "    </tr>\n",
       "    <tr>\n",
       "      <th>mean</th>\n",
       "      <td>32.020302</td>\n",
       "    </tr>\n",
       "    <tr>\n",
       "      <th>std</th>\n",
       "      <td>18.229641</td>\n",
       "    </tr>\n",
       "    <tr>\n",
       "      <th>min</th>\n",
       "      <td>1.000000</td>\n",
       "    </tr>\n",
       "    <tr>\n",
       "      <th>25%</th>\n",
       "      <td>23.000000</td>\n",
       "    </tr>\n",
       "    <tr>\n",
       "      <th>50%</th>\n",
       "      <td>29.000000</td>\n",
       "    </tr>\n",
       "    <tr>\n",
       "      <th>75%</th>\n",
       "      <td>42.000000</td>\n",
       "    </tr>\n",
       "    <tr>\n",
       "      <th>max</th>\n",
       "      <td>80.000000</td>\n",
       "    </tr>\n",
       "  </tbody>\n",
       "</table>\n",
       "</div>"
      ],
      "text/plain": [
       "               age\n",
       "count  2315.000000\n",
       "mean     32.020302\n",
       "std      18.229641\n",
       "min       1.000000\n",
       "25%      23.000000\n",
       "50%      29.000000\n",
       "75%      42.000000\n",
       "max      80.000000"
      ]
     },
     "metadata": {},
     "output_type": "display_data"
    },
    {
     "name": "stdout",
     "output_type": "stream",
     "text": [
      "test_df:\n"
     ]
    },
    {
     "data": {
      "text/html": [
       "<div>\n",
       "<style scoped>\n",
       "    .dataframe tbody tr th:only-of-type {\n",
       "        vertical-align: middle;\n",
       "    }\n",
       "\n",
       "    .dataframe tbody tr th {\n",
       "        vertical-align: top;\n",
       "    }\n",
       "\n",
       "    .dataframe thead th {\n",
       "        text-align: right;\n",
       "    }\n",
       "</style>\n",
       "<table border=\"1\" class=\"dataframe\">\n",
       "  <thead>\n",
       "    <tr style=\"text-align: right;\">\n",
       "      <th></th>\n",
       "      <th>age</th>\n",
       "    </tr>\n",
       "  </thead>\n",
       "  <tbody>\n",
       "    <tr>\n",
       "      <th>count</th>\n",
       "      <td>1159.000000</td>\n",
       "    </tr>\n",
       "    <tr>\n",
       "      <th>mean</th>\n",
       "      <td>32.000000</td>\n",
       "    </tr>\n",
       "    <tr>\n",
       "      <th>std</th>\n",
       "      <td>18.223663</td>\n",
       "    </tr>\n",
       "    <tr>\n",
       "      <th>min</th>\n",
       "      <td>1.000000</td>\n",
       "    </tr>\n",
       "    <tr>\n",
       "      <th>25%</th>\n",
       "      <td>23.000000</td>\n",
       "    </tr>\n",
       "    <tr>\n",
       "      <th>50%</th>\n",
       "      <td>29.000000</td>\n",
       "    </tr>\n",
       "    <tr>\n",
       "      <th>75%</th>\n",
       "      <td>42.000000</td>\n",
       "    </tr>\n",
       "    <tr>\n",
       "      <th>max</th>\n",
       "      <td>80.000000</td>\n",
       "    </tr>\n",
       "  </tbody>\n",
       "</table>\n",
       "</div>"
      ],
      "text/plain": [
       "               age\n",
       "count  1159.000000\n",
       "mean     32.000000\n",
       "std      18.223663\n",
       "min       1.000000\n",
       "25%      23.000000\n",
       "50%      29.000000\n",
       "75%      42.000000\n",
       "max      80.000000"
      ]
     },
     "metadata": {},
     "output_type": "display_data"
    }
   ],
   "source": [
    "train_df = load_into_df(TRAIN_PATH)\n",
    "print('train_df:')\n",
    "display(train_df.describe())\n",
    "val_df = load_into_df(VAL_PATH)\n",
    "print('val_df:')\n",
    "display(val_df.describe())\n",
    "test_df = load_into_df(TEST_PATH)\n",
    "print('test_df:')\n",
    "display(test_df.describe())"
   ]
  },
  {
   "cell_type": "markdown",
   "id": "eeb44726-df69-4050-a530-7eeba026baac",
   "metadata": {},
   "source": [
    "# DATA VISUALIZATION"
   ]
  },
  {
   "cell_type": "code",
   "execution_count": 5,
   "id": "83c74a3c-dfa8-446b-908b-8a567c434cda",
   "metadata": {},
   "outputs": [
    {
     "data": {
      "image/png": "[encoded data removed]",
      "text/plain": [
       "<Figure size 2160x1080 with 1 Axes>"
      ]
     },
     "metadata": {
      "needs_background": "light"
     },
     "output_type": "display_data"
    }
   ],
   "source": [
    "def plot_counts(df):\n",
    "    plt.rcParams[\"figure.figsize\"] = (30,15)\n",
    "    sns.countplot(data = df, x = 'age')\n",
    "    plt.rcParams[\"figure.figsize\"] = (5,5)\n",
    "plot_counts(train_df)\n",
    "#plot_counts(test_df)"
   ]
  },
  {
   "cell_type": "markdown",
   "id": "a7bc61e1-ea8c-4fe0-b608-0421886a9670",
   "metadata": {},
   "source": [
    "# DATA PREPARATION"
   ]
  },
  {
   "cell_type": "code",
   "execution_count": 6,
   "id": "81b334aa-aa4e-4c5a-bc69-59e2017d5491",
   "metadata": {},
   "outputs": [],
   "source": [
    "def get_xy(path):\n",
    "    file_names = os.listdir(path)\n",
    "    items = []\n",
    "    for file in file_names:\n",
    "        item = Item(path+file)\n",
    "        items.append(item)\n",
    "    x = np.array([resize(gray_to_rgb(item.get_image())) for item in items])\n",
    "    y = np.array([item.get_age() for item in items])\n",
    "    return x, y"
   ]
  },
  {
   "cell_type": "code",
   "execution_count": null,
   "id": "cfcf06de-5a99-4989-83e1-cb7637ce664e",
   "metadata": {
    "tags": []
   },
   "outputs": [],
   "source": [
    "x_train, y_train = get_xy(TRAIN_PATH)\n",
    "x_val, y_val = get_xy(VAL_PATH)\n",
    "x_test, y_test = get_xy(TEST_PATH)\n",
    "\n",
    "print('training:',x_train.shape, y_train.shape)\n",
    "print('validation:',x_val.shape, y_val.shape)\n",
    "print('test:',x_test.shape, y_test.shape)"
   ]
  },
  {
   "cell_type": "markdown",
   "id": "6dd32ddc-daa5-46c7-a287-12913c707261",
   "metadata": {},
   "source": [
    "# PRE PROCESSING"
   ]
  },
  {
   "cell_type": "code",
   "execution_count": null,
   "id": "45f6c620-df52-4c10-b571-d2149a01502e",
   "metadata": {},
   "outputs": [],
   "source": [
    "# NORMALIZATION\n",
    "\n",
    "def normalize(x):\n",
    "    return x/255\n",
    "x_train = normalize(x_train)\n",
    "x_val = normalize(x_val)\n",
    "x_test = normalize(x_test)"
   ]
  },
  {
   "cell_type": "code",
   "execution_count": null,
   "id": "935772f1-c7bb-4972-9890-4d9e8a8a13f7",
   "metadata": {
    "tags": []
   },
   "outputs": [],
   "source": [
    "imshow(x_val[100])"
   ]
  },
  {
   "cell_type": "code",
   "execution_count": null,
   "id": "1a2e5622-deef-4178-942d-c7e2bbbce8ec",
   "metadata": {
    "tags": []
   },
   "outputs": [],
   "source": [
    "from tensorflow.keras.applications import ResNet50\n",
    "\n",
    "base_model = ResNet50(input_shape=(224, 224, 3), include_top=False, weights=\"imagenet\")"
   ]
  },
  {
   "cell_type": "code",
   "execution_count": null,
   "id": "3196591e-b796-4446-b722-6a07ab7454d1",
   "metadata": {},
   "outputs": [],
   "source": [
    "from tensorflow.keras.models import Sequential\n",
    "from tensorflow.keras.layers import Dense, Flatten, GlobalAveragePooling2D, BatchNormalization, Dropout"
   ]
  },
  {
   "cell_type": "code",
   "execution_count": 26,
   "id": "6e066f4b-f5d7-4c83-b4b9-76cf3193ec9f",
   "metadata": {},
   "outputs": [],
   "source": [
    "#base_model = Sequential()\n",
    "#base_model.add(ResNet50(include_top=False, weights='imagenet', pooling='max'))\n",
    "#base_model.add(Dense(1, activation='sigmoid'))\n",
    "res_model = ResNet50(include_top=False, weights='imagenet', pooling='max')"
   ]
  },
  {
   "cell_type": "code",
   "execution_count": 27,
   "id": "1cd93799-cd61-491c-9b4d-a07fc5e76fae",
   "metadata": {},
   "outputs": [],
   "source": [
    "for layer in res_model.layers[:]:\n",
    "    layer.trainable = False"
   ]
  },
  {
   "cell_type": "code",
   "execution_count": 28,
   "id": "a6031296-3338-4b87-b970-9365cb1637d0",
   "metadata": {},
   "outputs": [],
   "source": [
    "model = Sequential()\n",
    "model.add(res_model)\n",
    "#model.add(Flatten())\n",
    "#model.add(BatchNormalization())\n",
    "#model.add(Dense(256, activation='relu'))\n",
    "#model.add(Dropout(0.5))\n",
    "#model.add(BatchNormalization())\n",
    "#model.add(Dense(128, activation='relu'))\n",
    "#model.add(Dropout(0.5))\n",
    "#model.add(BatchNormalization())\n",
    "#model.add(Dense(64, activation='relu'))\n",
    "#model.add(Dropout(0.5))\n",
    "#model.add(BatchNormalization())\n",
    "model.add(Dense(1, activation = 'linear'))"
   ]
  },
  {
   "cell_type": "code",
   "execution_count": 34,
   "id": "26643d69-a200-4822-a279-b71559d64c16",
   "metadata": {},
   "outputs": [],
   "source": [
    "model.compile(loss='mean_absolute_error',\n",
    "              optimizer=tf.keras.optimizers.Adam(0.01), \n",
    "              metrics=[tf.keras.metrics.MeanAbsoluteError()]\n",
    "             )"
   ]
  },
  {
   "cell_type": "code",
   "execution_count": null,
   "id": "312c1cbf-3905-4a46-8e9a-816c8bf35655",
   "metadata": {},
   "outputs": [],
   "source": [
    "history = model.fit(x_train, y_train, validation_data = (x_val, y_val), epochs = 40)"
   ]
  },
  {
   "cell_type": "code",
   "execution_count": 32,
   "id": "121a8392-37a2-439d-ad8f-a6dca9eef343",
   "metadata": {},
   "outputs": [
    {
     "name": "stdout",
     "output_type": "stream",
     "text": [
      "37/37 [==============================] - 3s 76ms/step - loss: 12.8891 - mean_absolute_error: 12.8891\n"
     ]
    },
    {
     "data": {
      "text/plain": [
       "[12.889104843139648, 12.889104843139648]"
      ]
     },
     "execution_count": 32,
     "metadata": {},
     "output_type": "execute_result"
    }
   ],
   "source": [
    "model.evaluate(x_test, y_test)"
   ]
  },
  {
   "cell_type": "code",
   "execution_count": 33,
   "id": "5a719f49-b6ae-4026-a60d-237bf741b4b3",
   "metadata": {},
   "outputs": [
    {
     "data": {
      "text/plain": [
       "[<matplotlib.lines.Line2D at 0x233324b7a00>]"
      ]
     },
     "execution_count": 33,
     "metadata": {},
     "output_type": "execute_result"
    },
    {
     "data": {
      "image/png": "[encoded data removed]",
      "text/plain": [
       "<Figure size 720x720 with 1 Axes>"
      ]
     },
     "metadata": {
      "needs_background": "light"
     },
     "output_type": "display_data"
    }
   ],
   "source": [
    "plt.rcParams[\"figure.figsize\"] = (10,10)\n",
    "loss = history.history[\"loss\"]\n",
    "val_loss = history.history[\"val_loss\"]\n",
    "plt.plot(loss, label = 'loss')\n",
    "plt.plot(val_loss, label = 'val_loss')"
   ]
  },
  {
   "cell_type": "code",
   "execution_count": null,
   "id": "792d5371-128f-4a95-9caf-192868f4183e",
   "metadata": {},
   "outputs": [],
   "source": []
  }
 ],
 "metadata": {
  "kernelspec": {
   "display_name": "Python 3",
   "language": "python",
   "name": "python3"
  },
  "language_info": {
   "codemirror_mode": {
    "name": "ipython",
    "version": 3
   },
   "file_extension": ".py",
   "mimetype": "text/x-python",
   "name": "python",
   "nbconvert_exporter": "python",
   "pygments_lexer": "ipython3",
   "version": "3.8.8"
  }
 },
 "nbformat": 4,
 "nbformat_minor": 5
}
